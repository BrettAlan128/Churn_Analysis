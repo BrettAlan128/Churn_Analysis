{
 "cells": [
  {
   "cell_type": "code",
   "execution_count": 5,
   "metadata": {},
   "outputs": [
    {
     "name": "stdout",
     "output_type": "stream",
     "text": [
      "df2_corr includes categorized number columns and number columns which may have redundancy and correction will likely be required.\n",
      "- Region\n",
      "- MonthlyRevenue\n",
      "- MonthlyMinutes\n",
      "- TotalRecurringCharge\n",
      "- DirectorAssistedCalls\n",
      "- OverageMinutes\n",
      "- RoamingCalls\n",
      "- PercChangeMinutes\n",
      "- PercChangeRevenues\n",
      "- DroppedCalls\n",
      "- BlockedCalls\n",
      "- UnansweredCalls\n",
      "- CustomerCareCalls\n",
      "- ThreewayCalls\n",
      "- ReceivedCalls\n",
      "- OutboundCalls\n",
      "- InboundCalls\n",
      "- PeakCallsInOut\n",
      "- OffPeakCallsInOut\n",
      "- DroppedBlockedCalls\n",
      "- CallForwardingCalls\n",
      "- CallWaitingCalls\n",
      "- MonthsInService\n",
      "- Tenure_cat\n",
      "- UniqueSubs\n",
      "- ActiveSubs\n",
      "- Handsets\n",
      "- HandsetModels\n",
      "- CurrentEquipmentDays\n",
      "- AgeHH1\n",
      "- ChildrenInHH\n",
      "- HandsetRefurbished\n",
      "- HandsetWebCapable\n",
      "- TruckOwner\n",
      "- RVOwner\n",
      "- Homeownership\n",
      "- BuysViaMailOrder\n",
      "- RespondsToMailOffers\n",
      "- OptOutMailings\n",
      "- NonUSTravel\n",
      "- OwnsComputer\n",
      "- HasCreditCard\n",
      "- RetentionCalls\n",
      "- RetentionOffersAccepted\n",
      "- NewCellphoneUser\n",
      "- NotNewCellphoneUser\n",
      "- ReferralsMadeBySubscriber\n",
      "- IncomeGroup\n",
      "- OwnsMotorcycle\n",
      "- AdjustmentsToCreditRating\n",
      "- HandsetPrice\n",
      "- MadeCallToRetentionTeam\n",
      "- PrizmCode\n",
      "- Occupation\n",
      "- MaritalStatus\n",
      "- CreditRating_split\n",
      "- AgeGroupHH1\n",
      "- Dropped_cat\n",
      "- Tenure_cat.1\n",
      "- Monthly_Charge_cat\n",
      "- CareCalls_cat\n",
      "- OffpeakCalls_cat\n",
      "- TotalCalls_cat\n",
      "- Referrals_bin\n",
      "- RetentionCalls_cat\n",
      "- Churn1\n"
     ]
    }
   ],
   "source": [
    "import matplotlib.pyplot as plt\n",
    "import seaborn as sns\n",
    "import pandas as pd\n",
    "import statsmodels.api as sm\n",
    "import numpy as np\n",
    "import gutplots as gp\n",
    "\n",
    "%load_ext autoreload\n",
    "%autoreload 2\n",
    "\n",
    "###Preparing both expanded and original features dataframes to be compared within models.\n",
    "#df contains Numerical Representation of Churn ('Churn1'), and only includes Region.\n",
    "\n",
    "#Original df accidently includes AgeHH1 and AgeGroupHH1 and we have to remove the group\n",
    "original = pd.read_csv('regression_df.csv', index_col=[0])\n",
    "#df is now ready to be used with models\n",
    "df= original.drop('AgeGroupHH1', axis = 1)\n",
    "\n",
    "\n",
    "df2 = pd.read_csv('full_df.csv', index_col = [0])\n",
    "#Df2 includes state, Customer Id, And both Churns (\"Churn\"= yes and no and \"Churn1\" = 1,0. \n",
    "#Df2 will be a good source for making changes during modelling.\n",
    "\n",
    "#dropping 'Churn' (yes/no) and the other variables due to uniqueness/interference of correlation metrics.\n",
    "df2_drops = ['CustomerID', 'Churn' ,'State'] \n",
    "#df2 that is now ready for correlation analysis\n",
    "df2_corr = df2.drop(df2_drops, axis= 1)\n",
    "\n",
    "\n",
    "print(\"df2_corr includes categorized number columns and number columns which may have redundancy and correction will likely be required.\") \n",
    "for cols in df2_corr: #includes made category cols (_cat)\n",
    "    print(\"- \" + cols)"
   ]
  },
  {
   "cell_type": "code",
   "execution_count": 6,
   "metadata": {},
   "outputs": [],
   "source": [
    "#When finding the dummies, the Churn was taken out prior.\n",
    "dummy_df2 = pd.get_dummies(df2_corr, drop_first = True)\n",
    "#Using Original Dataframe for correlation\n",
    "dummy_df1 = pd.get_dummies(df, drop_first = True)"
   ]
  },
  {
   "cell_type": "code",
   "execution_count": 7,
   "metadata": {
    "scrolled": true
   },
   "outputs": [],
   "source": [
    "#Improving Scaling and Required redundant drops after the first run:\n",
    "\n"
   ]
  },
  {
   "cell_type": "markdown",
   "metadata": {},
   "source": [
    "### Correlation\n"
   ]
  },
  {
   "cell_type": "code",
   "execution_count": 8,
   "metadata": {},
   "outputs": [
    {
     "ename": "KeyError",
     "evalue": "\"['Monthly_Charge_cat_veryhigh'] not found in axis\"",
     "output_type": "error",
     "traceback": [
      "\u001b[1;31m---------------------------------------------------------------------------\u001b[0m",
      "\u001b[1;31mKeyError\u001b[0m                                  Traceback (most recent call last)",
      "\u001b[1;32m<ipython-input-8-779fb9d06718>\u001b[0m in \u001b[0;36m<module>\u001b[1;34m\u001b[0m\n\u001b[0;32m     13\u001b[0m \u001b[1;31m#Improving Scaling and Required redundant drops after the first run:\u001b[0m\u001b[1;33m\u001b[0m\u001b[1;33m\u001b[0m\u001b[1;33m\u001b[0m\u001b[0m\n\u001b[0;32m     14\u001b[0m \u001b[0mpost_drops\u001b[0m \u001b[1;33m=\u001b[0m \u001b[1;33m[\u001b[0m\u001b[1;34m'RetentionCalls'\u001b[0m\u001b[1;33m,\u001b[0m \u001b[1;34m'Churn1'\u001b[0m\u001b[1;33m,\u001b[0m \u001b[1;34m'Tenure_cat.1_less_than_2'\u001b[0m\u001b[1;33m,\u001b[0m \u001b[1;34m'Tenure_cat.1_less_than_1'\u001b[0m\u001b[1;33m,\u001b[0m \u001b[1;34m'Monthly_Charge_cat_low'\u001b[0m\u001b[1;33m,\u001b[0m \u001b[1;34m'Monthly_Charge_cat_veryhigh'\u001b[0m\u001b[1;33m]\u001b[0m\u001b[1;33m\u001b[0m\u001b[1;33m\u001b[0m\u001b[0m\n\u001b[1;32m---> 15\u001b[1;33m \u001b[0mchurn_corr2\u001b[0m\u001b[1;33m=\u001b[0m \u001b[0mchurn_corr2\u001b[0m\u001b[1;33m.\u001b[0m\u001b[0mdrop\u001b[0m\u001b[1;33m(\u001b[0m\u001b[0mpost_drops\u001b[0m\u001b[1;33m,\u001b[0m \u001b[0maxis\u001b[0m \u001b[1;33m=\u001b[0m \u001b[1;36m0\u001b[0m\u001b[1;33m)\u001b[0m\u001b[1;33m\u001b[0m\u001b[1;33m\u001b[0m\u001b[0m\n\u001b[0m\u001b[0;32m     16\u001b[0m \u001b[0mchurn_corr1\u001b[0m\u001b[1;33m=\u001b[0m \u001b[0mchurn_corr1\u001b[0m\u001b[1;33m.\u001b[0m\u001b[0mdrop\u001b[0m\u001b[1;33m(\u001b[0m\u001b[1;34m'Churn1'\u001b[0m\u001b[1;33m,\u001b[0m \u001b[0maxis\u001b[0m \u001b[1;33m=\u001b[0m\u001b[1;36m0\u001b[0m\u001b[1;33m)\u001b[0m\u001b[1;33m\u001b[0m\u001b[1;33m\u001b[0m\u001b[0m\n",
      "\u001b[1;32m~\\anaconda3\\lib\\site-packages\\pandas\\core\\series.py\u001b[0m in \u001b[0;36mdrop\u001b[1;34m(self, labels, axis, index, columns, level, inplace, errors)\u001b[0m\n\u001b[0;32m   4137\u001b[0m             \u001b[0mlevel\u001b[0m\u001b[1;33m=\u001b[0m\u001b[0mlevel\u001b[0m\u001b[1;33m,\u001b[0m\u001b[1;33m\u001b[0m\u001b[1;33m\u001b[0m\u001b[0m\n\u001b[0;32m   4138\u001b[0m             \u001b[0minplace\u001b[0m\u001b[1;33m=\u001b[0m\u001b[0minplace\u001b[0m\u001b[1;33m,\u001b[0m\u001b[1;33m\u001b[0m\u001b[1;33m\u001b[0m\u001b[0m\n\u001b[1;32m-> 4139\u001b[1;33m             \u001b[0merrors\u001b[0m\u001b[1;33m=\u001b[0m\u001b[0merrors\u001b[0m\u001b[1;33m,\u001b[0m\u001b[1;33m\u001b[0m\u001b[1;33m\u001b[0m\u001b[0m\n\u001b[0m\u001b[0;32m   4140\u001b[0m         )\n\u001b[0;32m   4141\u001b[0m \u001b[1;33m\u001b[0m\u001b[0m\n",
      "\u001b[1;32m~\\anaconda3\\lib\\site-packages\\pandas\\core\\generic.py\u001b[0m in \u001b[0;36mdrop\u001b[1;34m(self, labels, axis, index, columns, level, inplace, errors)\u001b[0m\n\u001b[0;32m   3934\u001b[0m         \u001b[1;32mfor\u001b[0m \u001b[0maxis\u001b[0m\u001b[1;33m,\u001b[0m \u001b[0mlabels\u001b[0m \u001b[1;32min\u001b[0m \u001b[0maxes\u001b[0m\u001b[1;33m.\u001b[0m\u001b[0mitems\u001b[0m\u001b[1;33m(\u001b[0m\u001b[1;33m)\u001b[0m\u001b[1;33m:\u001b[0m\u001b[1;33m\u001b[0m\u001b[1;33m\u001b[0m\u001b[0m\n\u001b[0;32m   3935\u001b[0m             \u001b[1;32mif\u001b[0m \u001b[0mlabels\u001b[0m \u001b[1;32mis\u001b[0m \u001b[1;32mnot\u001b[0m \u001b[1;32mNone\u001b[0m\u001b[1;33m:\u001b[0m\u001b[1;33m\u001b[0m\u001b[1;33m\u001b[0m\u001b[0m\n\u001b[1;32m-> 3936\u001b[1;33m                 \u001b[0mobj\u001b[0m \u001b[1;33m=\u001b[0m \u001b[0mobj\u001b[0m\u001b[1;33m.\u001b[0m\u001b[0m_drop_axis\u001b[0m\u001b[1;33m(\u001b[0m\u001b[0mlabels\u001b[0m\u001b[1;33m,\u001b[0m \u001b[0maxis\u001b[0m\u001b[1;33m,\u001b[0m \u001b[0mlevel\u001b[0m\u001b[1;33m=\u001b[0m\u001b[0mlevel\u001b[0m\u001b[1;33m,\u001b[0m \u001b[0merrors\u001b[0m\u001b[1;33m=\u001b[0m\u001b[0merrors\u001b[0m\u001b[1;33m)\u001b[0m\u001b[1;33m\u001b[0m\u001b[1;33m\u001b[0m\u001b[0m\n\u001b[0m\u001b[0;32m   3937\u001b[0m \u001b[1;33m\u001b[0m\u001b[0m\n\u001b[0;32m   3938\u001b[0m         \u001b[1;32mif\u001b[0m \u001b[0minplace\u001b[0m\u001b[1;33m:\u001b[0m\u001b[1;33m\u001b[0m\u001b[1;33m\u001b[0m\u001b[0m\n",
      "\u001b[1;32m~\\anaconda3\\lib\\site-packages\\pandas\\core\\generic.py\u001b[0m in \u001b[0;36m_drop_axis\u001b[1;34m(self, labels, axis, level, errors)\u001b[0m\n\u001b[0;32m   3968\u001b[0m                 \u001b[0mnew_axis\u001b[0m \u001b[1;33m=\u001b[0m \u001b[0maxis\u001b[0m\u001b[1;33m.\u001b[0m\u001b[0mdrop\u001b[0m\u001b[1;33m(\u001b[0m\u001b[0mlabels\u001b[0m\u001b[1;33m,\u001b[0m \u001b[0mlevel\u001b[0m\u001b[1;33m=\u001b[0m\u001b[0mlevel\u001b[0m\u001b[1;33m,\u001b[0m \u001b[0merrors\u001b[0m\u001b[1;33m=\u001b[0m\u001b[0merrors\u001b[0m\u001b[1;33m)\u001b[0m\u001b[1;33m\u001b[0m\u001b[1;33m\u001b[0m\u001b[0m\n\u001b[0;32m   3969\u001b[0m             \u001b[1;32melse\u001b[0m\u001b[1;33m:\u001b[0m\u001b[1;33m\u001b[0m\u001b[1;33m\u001b[0m\u001b[0m\n\u001b[1;32m-> 3970\u001b[1;33m                 \u001b[0mnew_axis\u001b[0m \u001b[1;33m=\u001b[0m \u001b[0maxis\u001b[0m\u001b[1;33m.\u001b[0m\u001b[0mdrop\u001b[0m\u001b[1;33m(\u001b[0m\u001b[0mlabels\u001b[0m\u001b[1;33m,\u001b[0m \u001b[0merrors\u001b[0m\u001b[1;33m=\u001b[0m\u001b[0merrors\u001b[0m\u001b[1;33m)\u001b[0m\u001b[1;33m\u001b[0m\u001b[1;33m\u001b[0m\u001b[0m\n\u001b[0m\u001b[0;32m   3971\u001b[0m             \u001b[0mresult\u001b[0m \u001b[1;33m=\u001b[0m \u001b[0mself\u001b[0m\u001b[1;33m.\u001b[0m\u001b[0mreindex\u001b[0m\u001b[1;33m(\u001b[0m\u001b[1;33m**\u001b[0m\u001b[1;33m{\u001b[0m\u001b[0maxis_name\u001b[0m\u001b[1;33m:\u001b[0m \u001b[0mnew_axis\u001b[0m\u001b[1;33m}\u001b[0m\u001b[1;33m)\u001b[0m\u001b[1;33m\u001b[0m\u001b[1;33m\u001b[0m\u001b[0m\n\u001b[0;32m   3972\u001b[0m \u001b[1;33m\u001b[0m\u001b[0m\n",
      "\u001b[1;32m~\\anaconda3\\lib\\site-packages\\pandas\\core\\indexes\\base.py\u001b[0m in \u001b[0;36mdrop\u001b[1;34m(self, labels, errors)\u001b[0m\n\u001b[0;32m   5016\u001b[0m         \u001b[1;32mif\u001b[0m \u001b[0mmask\u001b[0m\u001b[1;33m.\u001b[0m\u001b[0many\u001b[0m\u001b[1;33m(\u001b[0m\u001b[1;33m)\u001b[0m\u001b[1;33m:\u001b[0m\u001b[1;33m\u001b[0m\u001b[1;33m\u001b[0m\u001b[0m\n\u001b[0;32m   5017\u001b[0m             \u001b[1;32mif\u001b[0m \u001b[0merrors\u001b[0m \u001b[1;33m!=\u001b[0m \u001b[1;34m\"ignore\"\u001b[0m\u001b[1;33m:\u001b[0m\u001b[1;33m\u001b[0m\u001b[1;33m\u001b[0m\u001b[0m\n\u001b[1;32m-> 5018\u001b[1;33m                 \u001b[1;32mraise\u001b[0m \u001b[0mKeyError\u001b[0m\u001b[1;33m(\u001b[0m\u001b[1;34mf\"{labels[mask]} not found in axis\"\u001b[0m\u001b[1;33m)\u001b[0m\u001b[1;33m\u001b[0m\u001b[1;33m\u001b[0m\u001b[0m\n\u001b[0m\u001b[0;32m   5019\u001b[0m             \u001b[0mindexer\u001b[0m \u001b[1;33m=\u001b[0m \u001b[0mindexer\u001b[0m\u001b[1;33m[\u001b[0m\u001b[1;33m~\u001b[0m\u001b[0mmask\u001b[0m\u001b[1;33m]\u001b[0m\u001b[1;33m\u001b[0m\u001b[1;33m\u001b[0m\u001b[0m\n\u001b[0;32m   5020\u001b[0m         \u001b[1;32mreturn\u001b[0m \u001b[0mself\u001b[0m\u001b[1;33m.\u001b[0m\u001b[0mdelete\u001b[0m\u001b[1;33m(\u001b[0m\u001b[0mindexer\u001b[0m\u001b[1;33m)\u001b[0m\u001b[1;33m\u001b[0m\u001b[1;33m\u001b[0m\u001b[0m\n",
      "\u001b[1;31mKeyError\u001b[0m: \"['Monthly_Charge_cat_veryhigh'] not found in axis\""
     ]
    }
   ],
   "source": [
    "#Running after necessary drops\n",
    "churn_corr2 = dummy_df2.corr()\n",
    "churn_corr1= dummy_df1.corr()\n",
    "\n",
    "#Only showing Churn column correlation\n",
    "churn_corr2 = churn_corr2.Churn1\n",
    "churn_corr1 = churn_corr1.Churn1\n",
    "\n",
    "#Setting filter to only display top correlations\n",
    "churn_corr1 = churn_corr1[((churn_corr1 > .03)|(churn_corr1 < -.03))]\n",
    "churn_corr2 = churn_corr2[((churn_corr2 > .03)|(churn_corr2 < -.03))]\n",
    "\n",
    "#Improving Scaling and Required redundant drops after the first run:\n",
    "post_drops = ['RetentionCalls', 'Churn1', 'Tenure_cat.1_less_than_2', 'Tenure_cat.1_less_than_1', 'Monthly_Charge_cat_low', 'Monthly_Charge_cat_veryhigh']\n",
    "churn_corr2= churn_corr2.drop(post_drops, axis = 0)\n",
    "churn_corr1= churn_corr1.drop('Churn1', axis =0)"
   ]
  },
  {
   "cell_type": "code",
   "execution_count": null,
   "metadata": {},
   "outputs": [],
   "source": [
    "\n",
    "churn_corr2= churn_corr2\n",
    "churn_corr2.sort_values(ascending = False).plot(kind='barh', figsize = (10, 6), color = 'Navy')\n",
    "plt.title('ALL Feature Correlation w/ Churn', fontsize = 20, fontweight = 'bold')\n",
    "plt.xticks(fontsize = 8, fontweight = 'bold')\n",
    "plt.yticks(fontweight = 'bold', fontsize = 8)\n",
    "plt.savefig('plotshots/correlation.png')\n",
    "plt.tight_layout()\n"
   ]
  },
  {
   "cell_type": "markdown",
   "metadata": {},
   "source": [
    "#### - We can see from left to right and Right to left what variables had the most correlation to Churn\n",
    "\n",
    "#### - Based on previous visualizations and insights, we are now able to get some quantifial results relating to Current Equipment, Reacurring Charges, Web services, and Credit Ratings that support insights in the exploration phase. Surprisingly \n",
    "\n",
    "#### Tenure is showing to have significantly lower amounts of correlation and the tenure low category only came up in the expanded correlation. There was very little correlation of tenure in the original dataframe.\n"
   ]
  },
  {
   "cell_type": "code",
   "execution_count": null,
   "metadata": {},
   "outputs": [],
   "source": [
    "\n",
    "dummy_df = pd.get_dummies(df, drop_first = True)\n",
    "\n",
    "#When finding the correlation, the churn was put back in from regression df which is the numerical churn.\n",
    "dummy_df['Churn'] = df['Churn1']\n",
    "corr_df = dummy_df.corr()\n",
    "churn_corr = corr_df.Churn \n",
    "churn_corr = churn_corr[((churn_corr > .03)|(churn_corr < -.03))]\n",
    "churn_corr.filter(like = 'Tenure')\n",
    "#CAn I only include some Tenure data in the model?\n",
    "churn_corr.head(30)\n"
   ]
  },
  {
   "cell_type": "markdown",
   "metadata": {},
   "source": [
    "\n",
    "#### We can see from left to right and Right to left what variables had the most correlation to Churn\n",
    "#####  Based on previous visualizations and insights, we are now able to get some quantifial results relating to Current Equipment, Reacurring Charges, Web services, and Credit Ratings that support insights in the exploration phase. Surprisingly Tenure is showing to have significantly lower amounts of correlation. "
   ]
  },
  {
   "cell_type": "markdown",
   "metadata": {},
   "source": [
    "## Logistic Regression"
   ]
  },
  {
   "cell_type": "code",
   "execution_count": 9,
   "metadata": {},
   "outputs": [
    {
     "data": {
      "text/html": [
       "<div>\n",
       "<style scoped>\n",
       "    .dataframe tbody tr th:only-of-type {\n",
       "        vertical-align: middle;\n",
       "    }\n",
       "\n",
       "    .dataframe tbody tr th {\n",
       "        vertical-align: top;\n",
       "    }\n",
       "\n",
       "    .dataframe thead th {\n",
       "        text-align: right;\n",
       "    }\n",
       "</style>\n",
       "<table border=\"1\" class=\"dataframe\">\n",
       "  <thead>\n",
       "    <tr style=\"text-align: right;\">\n",
       "      <th></th>\n",
       "      <th>MonthlyRevenue</th>\n",
       "      <th>MonthlyMinutes</th>\n",
       "      <th>TotalRecurringCharge</th>\n",
       "      <th>DirectorAssistedCalls</th>\n",
       "      <th>OverageMinutes</th>\n",
       "      <th>RoamingCalls</th>\n",
       "      <th>PercChangeMinutes</th>\n",
       "      <th>PercChangeRevenues</th>\n",
       "      <th>DroppedCalls</th>\n",
       "      <th>BlockedCalls</th>\n",
       "      <th>...</th>\n",
       "      <th>Occupation_Self</th>\n",
       "      <th>Occupation_Student</th>\n",
       "      <th>MaritalStatus_Unknown</th>\n",
       "      <th>MaritalStatus_Yes</th>\n",
       "      <th>CreditRating_split_High</th>\n",
       "      <th>CreditRating_split_Highest</th>\n",
       "      <th>CreditRating_split_Low</th>\n",
       "      <th>CreditRating_split_Lowest</th>\n",
       "      <th>CreditRating_split_Medium</th>\n",
       "      <th>CreditRating_split_VeryLow</th>\n",
       "    </tr>\n",
       "  </thead>\n",
       "  <tbody>\n",
       "    <tr>\n",
       "      <th>0</th>\n",
       "      <td>24.00</td>\n",
       "      <td>219.0</td>\n",
       "      <td>22.0</td>\n",
       "      <td>0.25</td>\n",
       "      <td>0.0</td>\n",
       "      <td>0.0</td>\n",
       "      <td>-157.0</td>\n",
       "      <td>-19.0</td>\n",
       "      <td>0.7</td>\n",
       "      <td>0.7</td>\n",
       "      <td>...</td>\n",
       "      <td>0</td>\n",
       "      <td>0</td>\n",
       "      <td>0</td>\n",
       "      <td>0</td>\n",
       "      <td>0</td>\n",
       "      <td>1</td>\n",
       "      <td>0</td>\n",
       "      <td>0</td>\n",
       "      <td>0</td>\n",
       "      <td>0</td>\n",
       "    </tr>\n",
       "    <tr>\n",
       "      <th>1</th>\n",
       "      <td>53.69</td>\n",
       "      <td>144.0</td>\n",
       "      <td>50.0</td>\n",
       "      <td>0.00</td>\n",
       "      <td>0.0</td>\n",
       "      <td>0.0</td>\n",
       "      <td>72.0</td>\n",
       "      <td>-0.4</td>\n",
       "      <td>0.7</td>\n",
       "      <td>0.0</td>\n",
       "      <td>...</td>\n",
       "      <td>0</td>\n",
       "      <td>0</td>\n",
       "      <td>1</td>\n",
       "      <td>0</td>\n",
       "      <td>0</td>\n",
       "      <td>1</td>\n",
       "      <td>0</td>\n",
       "      <td>0</td>\n",
       "      <td>0</td>\n",
       "      <td>0</td>\n",
       "    </tr>\n",
       "    <tr>\n",
       "      <th>2</th>\n",
       "      <td>74.37</td>\n",
       "      <td>585.0</td>\n",
       "      <td>81.0</td>\n",
       "      <td>0.99</td>\n",
       "      <td>0.0</td>\n",
       "      <td>0.0</td>\n",
       "      <td>77.0</td>\n",
       "      <td>-34.8</td>\n",
       "      <td>5.0</td>\n",
       "      <td>0.0</td>\n",
       "      <td>...</td>\n",
       "      <td>0</td>\n",
       "      <td>0</td>\n",
       "      <td>0</td>\n",
       "      <td>0</td>\n",
       "      <td>0</td>\n",
       "      <td>0</td>\n",
       "      <td>0</td>\n",
       "      <td>0</td>\n",
       "      <td>0</td>\n",
       "      <td>0</td>\n",
       "    </tr>\n",
       "  </tbody>\n",
       "</table>\n",
       "<p>3 rows × 91 columns</p>\n",
       "</div>"
      ],
      "text/plain": [
       "   MonthlyRevenue  MonthlyMinutes  TotalRecurringCharge  \\\n",
       "0           24.00           219.0                  22.0   \n",
       "1           53.69           144.0                  50.0   \n",
       "2           74.37           585.0                  81.0   \n",
       "\n",
       "   DirectorAssistedCalls  OverageMinutes  RoamingCalls  PercChangeMinutes  \\\n",
       "0                   0.25             0.0           0.0             -157.0   \n",
       "1                   0.00             0.0           0.0               72.0   \n",
       "2                   0.99             0.0           0.0               77.0   \n",
       "\n",
       "   PercChangeRevenues  DroppedCalls  BlockedCalls  ...  Occupation_Self  \\\n",
       "0               -19.0           0.7           0.7  ...                0   \n",
       "1                -0.4           0.7           0.0  ...                0   \n",
       "2               -34.8           5.0           0.0  ...                0   \n",
       "\n",
       "   Occupation_Student  MaritalStatus_Unknown  MaritalStatus_Yes  \\\n",
       "0                   0                      0                  0   \n",
       "1                   0                      1                  0   \n",
       "2                   0                      0                  0   \n",
       "\n",
       "   CreditRating_split_High  CreditRating_split_Highest  \\\n",
       "0                        0                           1   \n",
       "1                        0                           1   \n",
       "2                        0                           0   \n",
       "\n",
       "   CreditRating_split_Low  CreditRating_split_Lowest  \\\n",
       "0                       0                          0   \n",
       "1                       0                          0   \n",
       "2                       0                          0   \n",
       "\n",
       "   CreditRating_split_Medium  CreditRating_split_VeryLow  \n",
       "0                          0                           0  \n",
       "1                          0                           0  \n",
       "2                          0                           0  \n",
       "\n",
       "[3 rows x 91 columns]"
      ]
     },
     "execution_count": 9,
     "metadata": {},
     "output_type": "execute_result"
    }
   ],
   "source": [
    "#logistic regression\n",
    "dummy_df1.head(3)"
   ]
  },
  {
   "cell_type": "code",
   "execution_count": 10,
   "metadata": {
    "scrolled": true
   },
   "outputs": [
    {
     "name": "stdout",
     "output_type": "stream",
     "text": [
      "                                 OLS Regression Results                                \n",
      "=======================================================================================\n",
      "Dep. Variable:                 Churn1   R-squared (uncentered):                   0.303\n",
      "Model:                            OLS   Adj. R-squared (uncentered):              0.302\n",
      "Method:                 Least Squares   F-statistic:                              675.3\n",
      "Date:                Tue, 11 Aug 2020   Prob (F-statistic):                        0.00\n",
      "Time:                        11:54:39   Log-Likelihood:                         -30507.\n",
      "No. Observations:               49752   AIC:                                  6.108e+04\n",
      "Df Residuals:                   49720   BIC:                                  6.136e+04\n",
      "Df Model:                          32                                                  \n",
      "Covariance Type:            nonrobust                                                  \n",
      "===============================================================================================\n",
      "                                  coef    std err          t      P>|t|      [0.025      0.975]\n",
      "-----------------------------------------------------------------------------------------------\n",
      "MonthsInService                -0.0016      0.000     -5.303      0.000      -0.002      -0.001\n",
      "CurrentEquipmentDays            0.0003   1.27e-05     21.000      0.000       0.000       0.000\n",
      "MonthlyRevenue                  0.0008   6.97e-05     10.902      0.000       0.001       0.001\n",
      "MonthlyMinutes              -4.658e-05   6.36e-06     -7.327      0.000    -5.9e-05   -3.41e-05\n",
      "HandsetPrice_100                0.1298      0.015      8.438      0.000       0.100       0.160\n",
      "HandsetPrice_130                0.1156      0.013      8.973      0.000       0.090       0.141\n",
      "HandsetPrice_150                0.1188      0.011     10.931      0.000       0.098       0.140\n",
      "HandsetPrice_200                0.1375      0.015      9.013      0.000       0.108       0.167\n",
      "HandsetPrice_250                0.3412      0.100      3.400      0.001       0.145       0.538\n",
      "HandsetPrice_30                 0.1039      0.010     10.524      0.000       0.085       0.123\n",
      "HandsetPrice_40                 0.1483      0.030      4.930      0.000       0.089       0.207\n",
      "HandsetPrice_60                 0.1126      0.014      8.305      0.000       0.086       0.139\n",
      "HandsetPrice_Unknown            0.0945      0.009     10.267      0.000       0.076       0.113\n",
      "HandsetPrice_80                 0.1140      0.013      8.574      0.000       0.088       0.140\n",
      "HandsetWebCapable_Yes           0.0189      0.007      2.825      0.005       0.006       0.032\n",
      "HandsetRefurbished_Yes          0.0686      0.006     11.155      0.000       0.057       0.081\n",
      "MadeCallToRetentionTeam_Yes     0.1598      0.011     14.050      0.000       0.138       0.182\n",
      "TotalRecurringCharge           -0.0007      0.000     -6.215      0.000      -0.001      -0.000\n",
      "CreditRating_split_High         0.0151      0.005      3.094      0.002       0.006       0.025\n",
      "CreditRating_split_Low         -0.0582      0.007     -8.711      0.000      -0.071      -0.045\n",
      "CreditRating_split_Medium      -0.0215      0.007     -3.050      0.002      -0.035      -0.008\n",
      "MaritalStatus_Unknown           0.0553      0.005     10.151      0.000       0.045       0.066\n",
      "MaritalStatus_Yes               0.0240      0.005      4.532      0.000       0.014       0.034\n",
      "Occupation_Student              0.0757      0.024      3.157      0.002       0.029       0.123\n",
      "AgeGroupHH1_senior             -0.0273      0.011     -2.416      0.016      -0.049      -0.005\n",
      "AgeGroupHH1_young               0.0217      0.005      4.802      0.000       0.013       0.031\n",
      "Occupation_Other                0.0517      0.007      7.360      0.000       0.038       0.065\n",
      "Occupation_Professional         0.0371      0.008      4.615      0.000       0.021       0.053\n",
      "Region_Mountain                 0.0418      0.009      4.417      0.000       0.023       0.060\n",
      "DroppedCalls                    0.0015      0.000      5.388      0.000       0.001       0.002\n",
      "PrizmCode_Rural                 0.0385      0.009      4.070      0.000       0.020       0.057\n",
      "PrizmCode_Town                  0.0189      0.006      3.322      0.001       0.008       0.030\n",
      "==============================================================================\n",
      "Omnibus:                    18592.737   Durbin-Watson:                   1.968\n",
      "Prob(Omnibus):                  0.000   Jarque-Bera (JB):             8870.339\n",
      "Skew:                           0.896   Prob(JB):                         0.00\n",
      "Kurtosis:                       1.968   Cond. No.                     3.95e+04\n",
      "==============================================================================\n",
      "\n",
      "Warnings:\n",
      "[1] Standard Errors assume that the covariance matrix of the errors is correctly specified.\n",
      "[2] The condition number is large, 3.95e+04. This might indicate that there are\n",
      "strong multicollinearity or other numerical problems.\n"
     ]
    }
   ],
   "source": [
    "\n",
    "filt = ['MonthsInService','CurrentEquipmentDays','MonthlyRevenue', 'MonthlyMinutes','HandsetPrice_100',\n",
    "    'HandsetPrice_130', 'HandsetPrice_150',\n",
    "    'HandsetPrice_200','HandsetPrice_250',\n",
    "    'HandsetPrice_30', 'HandsetPrice_40',\n",
    "    'HandsetPrice_60','HandsetPrice_Unknown',\n",
    "    'HandsetPrice_80', 'HandsetWebCapable_Yes','HandsetRefurbished_Yes', 'MadeCallToRetentionTeam_Yes',\n",
    "    'TotalRecurringCharge',\n",
    "    'CreditRating_split_High','CreditRating_split_Low',\n",
    "    'CreditRating_split_Medium',\n",
    "    'MaritalStatus_Unknown',\n",
    "    'MaritalStatus_Yes','Occupation_Student', 'AgeGroupHH1_senior',\n",
    "    'AgeGroupHH1_young', 'Occupation_Other', 'Occupation_Professional', 'Region_Mountain','DroppedCalls','PrizmCode_Rural', \n",
    "    'PrizmCode_Town']\n",
    "        \n",
    "\n",
    "target = dummy_df1['Churn1']\n",
    "#This Logistic Regression is based on the expanded dataframe. \n",
    "x=dummy_df2[filt]\n",
    "# x = dummy_df1\n",
    "\n",
    "\n",
    "model  = sm.OLS(target,x ).fit()\n",
    "print(model.summary())    \n",
    "\n",
    "#NOT USED Features for df2:        \n",
    "#         'DirectorAssistedCalls', 'OverageMinutes', 'RoamingCalls',\n",
    "#        'PercChangeMinutes', \n",
    "#        'BlockedCalls', 'UnansweredCalls', 'CustomerCareCalls', 'ThreewayCalls',\n",
    "#        'ReceivedCalls', 'OutboundCalls', 'InboundCalls', 'PeakCallsInOut',\n",
    "#         'DroppedBlockedCalls', 'CallForwardingCalls',\n",
    "#        'CallWaitingCalls', 'UniqueSubs', 'ActiveSubs',\n",
    "#        'Handsets', 'HandsetModels',  'AgeHH1',\n",
    "#        'RetentionCalls', 'RetentionOffersAccepted',\n",
    "#         'IncomeGroup', 'AdjustmentsToCreditRating',\n",
    "#        'Churn1', 'Region_East South Central', 'Region_Middle Atlantic',\n",
    "#        'Region_Mountain', 'Region_New England', 'Region_Pacific',\n",
    "#        'Region_South Atlantic', 'Region_West North Central',\n",
    "#        'Region_West South Central', 'ChildrenInHH_Yes',\n",
    "#          'TruckOwner_Yes',\n",
    "#        'RVOwner_Yes', 'Homeownership_Unknown', 'BuysViaMailOrder_Yes',\n",
    "#        'RespondsToMailOffers_Yes', 'OptOutMailings_Yes', 'NonUSTravel_Yes',\n",
    "#        'OwnsComputer_Yes', 'HasCreditCard_Yes', 'NewCellphoneUser_Yes',\n",
    "#        'NotNewCellphoneUser_Yes', 'OwnsMotorcycle_Yes', \n",
    "#         'PrizmCode_Rural', 'PrizmCode_Suburban',\n",
    "#        'PrizmCode_Town',  ]\n",
    "\n",
    "\n"
   ]
  },
  {
   "cell_type": "markdown",
   "metadata": {},
   "source": [
    "### Upon running a logistic regression with pvalues within optimal range, there is a wide variance in its ability to be able to give an accurate yes or no prediction to churn and the low r-squared of .30 emphasizes it weak ability to do so."
   ]
  },
  {
   "cell_type": "markdown",
   "metadata": {},
   "source": [
    "## Decision Tree"
   ]
  },
  {
   "cell_type": "code",
   "execution_count": 11,
   "metadata": {},
   "outputs": [],
   "source": [
    "from sklearn.ensemble import RandomForestClassifier\n",
    "from sklearn.model_selection import train_test_split"
   ]
  },
  {
   "cell_type": "code",
   "execution_count": 12,
   "metadata": {},
   "outputs": [
    {
     "name": "stdout",
     "output_type": "stream",
     "text": [
      "Accuracy =  0.7039847243857092\n",
      "[0 0 1 ... 0 0 0]\n"
     ]
    }
   ],
   "source": [
    "#dependent variable\n",
    "y = df['Churn1']\n",
    "\n",
    "#independent variables (dummy_df1 does not have y variable in it)\n",
    "x = dummy_df1\n",
    "filt = ['MonthsInService','CurrentEquipmentDays','MonthlyRevenue', 'MonthlyMinutes','HandsetPrice_100',\n",
    "    'HandsetPrice_130', 'HandsetPrice_150',\n",
    "    'HandsetPrice_200','HandsetPrice_250',\n",
    "    'HandsetPrice_30', 'HandsetPrice_40',\n",
    "    'HandsetPrice_60','HandsetPrice_Unknown',\n",
    "    'HandsetPrice_80', 'HandsetWebCapable_Yes','HandsetRefurbished_Yes', 'MadeCallToRetentionTeam_Yes',\n",
    "    'TotalRecurringCharge',\n",
    "    'CreditRating_split_High','CreditRating_split_Low',\n",
    "    'CreditRating_split_Medium',\n",
    "    'MaritalStatus_Unknown',\n",
    "    'MaritalStatus_Yes','Occupation_Student',\n",
    "    'Occupation_Other', 'Occupation_Professional', 'Region_Mountain','DroppedCalls','PrizmCode_Rural', \n",
    "    'PrizmCode_Town']\n",
    "x= dummy_df1[filt]\n",
    "\n",
    "#40 percent of the data is randomly selected and assigned to the test data portion. \n",
    "#Random State ensures test and train data set remain same on each run.\n",
    "\n",
    "\n",
    "x_train, x_test, y_train, y_test = train_test_split(x , y,test_size = .4, random_state=30)\n",
    "\n",
    "model = RandomForestClassifier(n_estimators= 30, random_state = 30)\n",
    "\n",
    "model.fit(x_train, y_train)\n",
    "\n",
    "prediction_test = model.predict(x_test)\n",
    "\n",
    "from sklearn import metrics\n",
    "\n",
    "print(\"Accuracy = \", metrics.accuracy_score(y_test, prediction_test))\n",
    "\n",
    "print(prediction_test)\n"
   ]
  },
  {
   "cell_type": "code",
   "execution_count": 62,
   "metadata": {},
   "outputs": [
    {
     "name": "stdout",
     "output_type": "stream",
     "text": [
      "original= [[13248   875]\n",
      " [ 5016   762]]\n",
      "new=       [[  762  5016]\n",
      " [  875 13248]]\n"
     ]
    }
   ],
   "source": [
    "from sklearn.metrics import confusion_matrix\n",
    "\n",
    "\n",
    "conf_mat = confusion_matrix(y_test , prediction_test)\n",
    "print('original= ' + str(conf_mat))\n",
    "# print(conf_mat)\n",
    "new_conf = [[762,5016],[875, 13248]]\n",
    "new_conf= np.array(new_conf)\n",
    "print('new=' + str(new_conf))"
   ]
  },
  {
   "cell_type": "code",
   "execution_count": 55,
   "metadata": {},
   "outputs": [
    {
     "data": {
      "image/png": "[encoded data removed]",
      "text/plain": [
       "<Figure size 720x432 with 2 Axes>"
      ]
     },
     "metadata": {
      "needs_background": "light"
     },
     "output_type": "display_data"
    }
   ],
   "source": [
    "fig = plt.figure(figsize = (10, 6))\n",
    "ax= plt.subplot()\n",
    "sns.heatmap(new_conf, annot=True,annot_kws={\"size\":16},ax = ax, fmt = 'g'); #annot=True to annotate cells\n",
    "# labels, title and ticks\n",
    "ax.set_xlabel('Predicted', fontsize=20, weight = 'bold')\n",
    "ax.xaxis.set_label_position('top') \n",
    "ax.xaxis.set_ticklabels(['Churn', 'Not Churn'], fontsize = 15)\n",
    "ax.xaxis.tick_top()\n",
    "\n",
    "ax.set_ylabel('Actual', fontsize=20, weight= 'bold')\n",
    "ax.yaxis.set_ticklabels(['Churn', 'Not Churn'], fontsize = 15)\n",
    "plt.show()\n",
    "\n",
    "\n",
    "fig.savefig('plotshots/confusion_matrix.png')"
   ]
  },
  {
   "attachments": {},
   "cell_type": "markdown",
   "metadata": {},
   "source": [
    "Even tho in the context of the dataset, churn is not the result that is desired, the churn is a  minority result on an imbalanced dataset.\n",
    "\n",
    "- Top Left is True Positive. It predicted Churn and it was actually Churn. (Correct Prediction)\n",
    "- Top Right Predicted NotChurn, but it was Actually Churn. (Incorrect Prediction)\n",
    "- Bottom Right, It predicted not Churn and it was Actually not churn. (Correct Prediction)\n",
    "- Bottom Left: It predected Churn but it was actually Not Churn (Incorrect Prediction)\n",
    "\n",
    "If we want to calculate accuracy: All correct/ (SUM of Predictions whetyher they be rigth or wrong.)\n",
    "\n",
    "If we want to calculate Precision: True Positive(TopLeft- the one that we are most trying to predict)/ (All of its attempts to make that prediction- in this case all Churn predictions)\n",
    "\n",
    "If we want to calculate Recall:  True Positives/ all of the incorrect predictions\n",
    "Recall hows a strong representation of the model’s low probability to acutely predict Churned customers as it was correct 13.2% of the time out of all times it had the opportunity to make a correct churn prediction. \n",
    "\n",
    "\n"
   ]
  },
  {
   "cell_type": "code",
   "execution_count": 63,
   "metadata": {},
   "outputs": [
    {
     "data": {
      "text/plain": [
       "'hello'"
      ]
     },
     "execution_count": 63,
     "metadata": {},
     "output_type": "execute_result"
    }
   ],
   "source": [
    "'HeLLo'.lower()"
   ]
  },
  {
   "cell_type": "code",
   "execution_count": null,
   "metadata": {},
   "outputs": [],
   "source": []
  }
 ],
 "metadata": {
  "kernelspec": {
   "display_name": "Python 3",
   "language": "python",
   "name": "python3"
  },
  "language_info": {
   "codemirror_mode": {
    "name": "ipython",
    "version": 3
   },
   "file_extension": ".py",
   "mimetype": "text/x-python",
   "name": "python",
   "nbconvert_exporter": "python",
   "pygments_lexer": "ipython3",
   "version": "3.7.6"
  }
 },
 "nbformat": 4,
 "nbformat_minor": 4
}
